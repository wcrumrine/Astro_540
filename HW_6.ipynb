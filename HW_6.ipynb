{
 "cells": [
  {
   "cell_type": "markdown",
   "id": "43ab110f",
   "metadata": {},
   "source": [
    "# Problem 10.3 $\\rightarrow$  $\\Delta\\chi^2$ Values"
   ]
  },
  {
   "cell_type": "markdown",
   "id": "2d3185cc",
   "metadata": {},
   "source": [
    "### Calculating the $\\Delta\\chi^2$ values for the given credible intervals (and given number of parameters) simply means the following: We must find the upper boundary of integration under the $\\chi^2$ distribution that gives the area under the curve equaling the desired credible interval. \n",
    "\n",
    "### This is easily done using the scipy function chi2, where you input the credible interval and degrees of freedom, and it outputs $\\Delta\\chi^2$. I do this below in a for loop, then plot the table using a pandas dataframe."
   ]
  },
  {
   "cell_type": "code",
   "execution_count": 3,
   "id": "ee672125",
   "metadata": {},
   "outputs": [],
   "source": [
    "import numpy as np\n",
    "from scipy.stats import chi2 \n",
    "import pandas as pd\n",
    "import matplotlib.pyplot as plt"
   ]
  },
  {
   "cell_type": "markdown",
   "id": "c37054da",
   "metadata": {},
   "source": [
    "### Plot an example $\\chi^2$ distribution"
   ]
  },
  {
   "cell_type": "code",
   "execution_count": 4,
   "id": "782b0902",
   "metadata": {},
   "outputs": [],
   "source": [
    "DF = 10\n",
    "X = np.linspace(0,50,100)\n",
    "chiPDF = chi2.pdf(X, DF)"
   ]
  },
  {
   "cell_type": "code",
   "execution_count": 9,
   "id": "9c73af27",
   "metadata": {},
   "outputs": [
    {
     "data": {
      "text/plain": [
       "Text(0.5, 1.0, '$\\\\chi^2$ Distribution for 10 Parameters')"
      ]
     },
     "execution_count": 9,
     "metadata": {},
     "output_type": "execute_result"
    },
    {
     "data": {
      "image/png": "[encoded data removed]",
      "text/plain": [
       "<Figure size 432x288 with 1 Axes>"
      ]
     },
     "metadata": {
      "needs_background": "light"
     },
     "output_type": "display_data"
    }
   ],
   "source": [
    "plt.plot(X, chiPDF, 'c-', lw=1)\n",
    "plt.title('$\\chi^2$ Distribution for 10 Parameters')"
   ]
  },
  {
   "cell_type": "markdown",
   "id": "72c796fa",
   "metadata": {},
   "source": [
    "### Create a table of the desired $\\Delta\\chi^2$ values"
   ]
  },
  {
   "cell_type": "code",
   "execution_count": 6,
   "id": "63596571",
   "metadata": {},
   "outputs": [],
   "source": [
    "Prob = [0.6827, 0.9545, 0.9973]\n",
    "DF = [1, 2, 3]"
   ]
  },
  {
   "cell_type": "code",
   "execution_count": 7,
   "id": "de6ab0f5",
   "metadata": {},
   "outputs": [],
   "source": [
    "Data = []\n",
    "for i in [0,1,2]:\n",
    "    love = [round(chi2.ppf(Prob[i],DF[0]),1), round(chi2.ppf(Prob[i],DF[1]),1), round(chi2.ppf(Prob[i],DF[2]),1)]\n",
    "    Data.append(love)\n",
    "\n",
    "Table = pd.DataFrame(np.array(Data),columns = ['1-Par','2-Par', '3-Par'], index = ['68.27%','95.45%', '99.73%'])"
   ]
  },
  {
   "cell_type": "code",
   "execution_count": 8,
   "id": "a32a26c8",
   "metadata": {},
   "outputs": [
    {
     "data": {
      "text/html": [
       "<div>\n",
       "<style scoped>\n",
       "    .dataframe tbody tr th:only-of-type {\n",
       "        vertical-align: middle;\n",
       "    }\n",
       "\n",
       "    .dataframe tbody tr th {\n",
       "        vertical-align: top;\n",
       "    }\n",
       "\n",
       "    .dataframe thead th {\n",
       "        text-align: right;\n",
       "    }\n",
       "</style>\n",
       "<table border=\"1\" class=\"dataframe\">\n",
       "  <thead>\n",
       "    <tr style=\"text-align: right;\">\n",
       "      <th></th>\n",
       "      <th>1-Par</th>\n",
       "      <th>2-Par</th>\n",
       "      <th>3-Par</th>\n",
       "    </tr>\n",
       "  </thead>\n",
       "  <tbody>\n",
       "    <tr>\n",
       "      <th>68.27%</th>\n",
       "      <td>1.0</td>\n",
       "      <td>2.3</td>\n",
       "      <td>3.5</td>\n",
       "    </tr>\n",
       "    <tr>\n",
       "      <th>95.45%</th>\n",
       "      <td>4.0</td>\n",
       "      <td>6.2</td>\n",
       "      <td>8.0</td>\n",
       "    </tr>\n",
       "    <tr>\n",
       "      <th>99.73%</th>\n",
       "      <td>9.0</td>\n",
       "      <td>11.8</td>\n",
       "      <td>14.2</td>\n",
       "    </tr>\n",
       "  </tbody>\n",
       "</table>\n",
       "</div>"
      ],
      "text/plain": [
       "        1-Par  2-Par  3-Par\n",
       "68.27%    1.0    2.3    3.5\n",
       "95.45%    4.0    6.2    8.0\n",
       "99.73%    9.0   11.8   14.2"
      ]
     },
     "execution_count": 8,
     "metadata": {},
     "output_type": "execute_result"
    }
   ],
   "source": [
    "Table"
   ]
  },
  {
   "cell_type": "code",
   "execution_count": null,
   "id": "62123848",
   "metadata": {},
   "outputs": [],
   "source": []
  }
 ],
 "metadata": {
  "kernelspec": {
   "display_name": "Python 3 (ipykernel)",
   "language": "python",
   "name": "python3"
  },
  "language_info": {
   "codemirror_mode": {
    "name": "ipython",
    "version": 3
   },
   "file_extension": ".py",
   "mimetype": "text/x-python",
   "name": "python",
   "nbconvert_exporter": "python",
   "pygments_lexer": "ipython3",
   "version": "3.9.7"
  }
 },
 "nbformat": 4,
 "nbformat_minor": 5
}
