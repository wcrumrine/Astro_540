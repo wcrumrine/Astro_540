{
 "cells": [
  {
   "cell_type": "code",
   "execution_count": 1,
   "id": "9743abee",
   "metadata": {},
   "outputs": [],
   "source": [
    "# import necessary modules\n",
    "import matplotlib\n",
    "import matplotlib.pyplot as plt\n",
    "import numpy as np\n",
    "from classy import Class\n",
    "from Helper_Functions_CLS import Get_LCDM_Cls, Get_PHO_Cls, Get_NU_Cls\n",
    "\n",
    "# for crisper plots\n",
    "%matplotlib inline\n",
    "%config InlineBackend.figure_format='retina'\n",
    "%config InlineBackend.rc = {'figure.facecolor': 'w'}\n",
    "%config InlineBackend.figure_format = 'retina'\n",
    "plt.rcParams['font.size']=11\n",
    "plt.rcParams['text.usetex']=True\n",
    "plt.rcParams['font.family']='stix'\n",
    "plt.rcParams['figure.figsize']= (6.5,4)\n",
    "plt.rcParams['figure.dpi']=150\n",
    "plt.rcParams['axes.facecolor'] = 'white'"
   ]
  },
  {
   "cell_type": "code",
   "execution_count": 2,
   "id": "cc260b8e",
   "metadata": {},
   "outputs": [],
   "source": [
    "# Generate Cl's of NU-IDM Model (Best Fit)\n",
    "h=0.670659; omega_b=0.0222896; omega_cdm=0.120674; tau_reio=0.0530193; A_s=2.1e-09; n_s=0.963469; P_k_max=100; k_per_decade=10\n",
    "m_ncdm = '0.022,0.022,0.022'; u_ncdmdm_scale='log'; N_ur=0.00641; N_ncdm=3\n",
    "u_ncdmdm = '-4.81612,-4.81612,-4.81612'; f_nudm = 10**(-0.150882); \n",
    "ll_NU, clTT_NU, clEE_NU, clTE_NU = Get_NU_Cls(h, omega_b, omega_cdm, tau_reio, A_s, n_s, P_k_max, k_per_decade, \\\n",
    "                                 f_nudm, u_ncdmdm_scale, N_ur, N_ncdm, m_ncdm, u_ncdmdm)"
   ]
  },
  {
   "cell_type": "code",
   "execution_count": 3,
   "id": "d2278b31",
   "metadata": {},
   "outputs": [],
   "source": [
    "np.savetxt(\"NU_cls.txt\",clTT_NU)"
   ]
  },
  {
   "cell_type": "code",
   "execution_count": null,
   "id": "7a91bb78",
   "metadata": {},
   "outputs": [],
   "source": []
  }
 ],
 "metadata": {
  "kernelspec": {
   "display_name": "NuCLASSenv",
   "language": "python",
   "name": "nuclassenv"
  },
  "language_info": {
   "codemirror_mode": {
    "name": "ipython",
    "version": 3
   },
   "file_extension": ".py",
   "mimetype": "text/x-python",
   "name": "python",
   "nbconvert_exporter": "python",
   "pygments_lexer": "ipython3",
   "version": "3.9.15"
  }
 },
 "nbformat": 4,
 "nbformat_minor": 5
}
